{
  "nbformat": 4,
  "nbformat_minor": 0,
  "metadata": {
    "colab": {
      "provenance": [],
      "authorship_tag": "ABX9TyOnBwmacHnYAwP8d2igGVM8",
      "include_colab_link": true
    },
    "kernelspec": {
      "name": "python3",
      "display_name": "Python 3"
    },
    "language_info": {
      "name": "python"
    }
  },
  "cells": [
    {
      "cell_type": "markdown",
      "metadata": {
        "id": "view-in-github",
        "colab_type": "text"
      },
      "source": [
        "<a href=\"https://colab.research.google.com/github/panpanii/PANI/blob/main/kisi2%20UTS.ipynb\" target=\"_parent\"><img src=\"https://colab.research.google.com/assets/colab-badge.svg\" alt=\"Open In Colab\"/></a>"
      ]
    },
    {
      "cell_type": "markdown",
      "source": [
        "1.\tKalkulator Sederhana\n",
        "Buatlah program kalkulator sederhana yang dapat melakukan operasi Penjumlahan, Pengurangan, Perkalian, Pembagian."
      ],
      "metadata": {
        "id": "evN4PHeCq7qJ"
      }
    },
    {
      "cell_type": "code",
      "execution_count": 12,
      "metadata": {
        "colab": {
          "base_uri": "https://localhost:8080/"
        },
        "id": "yZRU99hK5LjV",
        "outputId": "3e67372a-c991-4b0f-f3f3-c797d066d1b1"
      },
      "outputs": [
        {
          "output_type": "stream",
          "name": "stdout",
          "text": [
            "masukkan nilai pertama : 12\n",
            "masukkan nilai kedua : 4\n",
            "masukkan operasi aritmatika (+, -, *, /) : -\n",
            "12 - 4 = 8\n"
          ]
        }
      ],
      "source": [
        "x = int(input(\"masukkan nilai pertama : \"))\n",
        "y = int(input(\"masukkan nilai kedua : \"))\n",
        "operasi = input(\"masukkan operasi aritmatika (+, -, *, /) : \")\n",
        "if operasi == \"+\":\n",
        "  print(x, \"+\", y, \"=\", x+y)\n",
        "elif operasi == \"-\":\n",
        "  print(x, \"-\", y, \"=\", x-y)\n",
        "elif operasi == \"*\":\n",
        "  print(x, \"*\", y, \"=\", x*y)\n",
        "elif operasi == \"/\":\n",
        "  print(x, \"/\", y, \"=\", x/y)"
      ]
    },
    {
      "cell_type": "markdown",
      "source": [
        "2.\tPola Segitiga\n",
        "Buat program yang menampilkan segitiga angka\n"
      ],
      "metadata": {
        "id": "UWlNn-xWrD9-"
      }
    },
    {
      "cell_type": "code",
      "source": [
        "n = int(input(\"masukkan jumlah baris : \"))\n",
        "for i in range(1, n+1):\n",
        "    for j in range(1, i+1):\n",
        "      print(j, end='')\n",
        "    print()"
      ],
      "metadata": {
        "colab": {
          "base_uri": "https://localhost:8080/"
        },
        "id": "d31-gRZW-krs",
        "outputId": "aa0875d9-e7c8-44ec-e0c3-7ea9b4cb19d7"
      },
      "execution_count": 13,
      "outputs": [
        {
          "output_type": "stream",
          "name": "stdout",
          "text": [
            "masukkan jumlah baris : 9\n",
            "1\n",
            "12\n",
            "123\n",
            "1234\n",
            "12345\n",
            "123456\n",
            "1234567\n",
            "12345678\n",
            "123456789\n"
          ]
        }
      ]
    },
    {
      "cell_type": "markdown",
      "source": [
        "3.\tNilai Mahasiswa\n",
        "\n",
        "Buat program untuk menyimpan nilai n mahasiswa dalam sebuah array, kemudian:\n",
        "\n",
        "•\tMenampilkan seluruh nilai\n",
        "\n",
        "•\tMenghitung rata-rata nilai\n",
        "\n",
        "•\tMenentukan nilai tertinggi dan terendah\n"
      ],
      "metadata": {
        "id": "FRNqBhh_rZdO"
      }
    },
    {
      "cell_type": "code",
      "source": [
        "n = int(input(\"Masukkan jumlah mahasiswa: \"))\n",
        "nilai_mahasiswa = []\n",
        "for i in range(n):\n",
        "  nilai = float(input(f\"Masukkan nilai mahasiswa ke-{i+1}: \"))\n",
        "  nilai_mahasiswa.append(nilai)\n",
        "print(\"Seluruh nilai mahasiswa: \")\n",
        "for nilai in nilai_mahasiswa:\n",
        "  print(nilai)\n",
        "rata_rata = sum(nilai_mahasiswa) / n\n",
        "print(f\"Rata-rata nilai: \", rata_rata)\n",
        "nilai_tertinggi = max(nilai_mahasiswa)\n",
        "nilai_terendah = min(nilai_mahasiswa)\n",
        "print(f\"Nilai tertinggi: \", nilai_tertinggi)\n",
        "print(f\"Nilai terendah: \", nilai_terendah)"
      ],
      "metadata": {
        "colab": {
          "base_uri": "https://localhost:8080/"
        },
        "id": "iCs3DMk4JXkR",
        "outputId": "2fd6e17f-8fa7-4836-fe5b-7cc9273ac0cf"
      },
      "execution_count": 56,
      "outputs": [
        {
          "output_type": "stream",
          "name": "stdout",
          "text": [
            "Masukkan jumlah mahasiswa: 8\n",
            "Masukkan nilai mahasiswa ke-1: 89\n",
            "Masukkan nilai mahasiswa ke-2: 70\n",
            "Masukkan nilai mahasiswa ke-3: 90\n",
            "Masukkan nilai mahasiswa ke-4: 99\n",
            "Masukkan nilai mahasiswa ke-5: 89\n",
            "Masukkan nilai mahasiswa ke-6: 98\n",
            "Masukkan nilai mahasiswa ke-7: 87\n",
            "Masukkan nilai mahasiswa ke-8: 80\n",
            "Seluruh nilai mahasiswa: \n",
            "89.0\n",
            "70.0\n",
            "90.0\n",
            "99.0\n",
            "89.0\n",
            "98.0\n",
            "87.0\n",
            "80.0\n",
            "Rata-rata nilai:  87.75\n",
            "Nilai tertinggi:  99.0\n",
            "Nilai terendah:  70.0\n"
          ]
        }
      ]
    },
    {
      "cell_type": "markdown",
      "source": [
        "4.\tPenjumlahan Matriks\n",
        "Buat program yang membaca dua matriks A dan B berukuran 2x2, lalu menghitung matriks hasil penjumlahannya.\n"
      ],
      "metadata": {
        "id": "xmpHoAVIrhYe"
      }
    },
    {
      "cell_type": "code",
      "source": [
        "baris_a = int(input(\"Masukkan jumlah baris matriks A : \"))\n",
        "kolom_a = int(input(\"Masukkan jumlah kolom matriks A: \"))\n",
        "print(\"Masukkan elemen-elemen matriks :\")\n",
        "matriks_a = []\n",
        "for i in range(baris_a):\n",
        "  baris_matriks_a = []\n",
        "  for j in range(kolom_a):\n",
        "    elemen_a = int(input(f\"Elemen a [{i}][{j}]: \"))\n",
        "    baris_matriks_a.append(elemen_a)\n",
        "  matriks_a.append(baris_matriks_a)\n",
        "\n",
        "baris_b = int(input(\"Masukkan jumlah baris matriks B: \"))\n",
        "kolom_b = int(input(\"Masukkan jumlah kolom matriks B: \"))\n",
        "print(\"Masukkan elemen-elemen matriks :\")\n",
        "matriks_b = []\n",
        "for k in range(baris_b):\n",
        "  baris_matriks_b = []\n",
        "  for l in range(kolom_b):\n",
        "    elemen_b = int(input(f\"Elemen b [{k}][{l}]: \"))\n",
        "    baris_matriks_b.append(elemen_b)\n",
        "  matriks_b.append(baris_matriks_b)\n",
        "\n",
        "hasil = []\n",
        "for i in range(baris_a):\n",
        "  hasil_baris_a = []\n",
        "  for j in range(kolom_a):\n",
        "    hasil_baris_a.append(matriks_a[i][j] + matriks_b[i][j])\n",
        "  hasil.append(hasil_baris_a)\n",
        "print(\"Matriks A dan B setelah dijumlahkan adalah: \")\n",
        "for baris in hasil:\n",
        "  print(baris)"
      ],
      "metadata": {
        "colab": {
          "base_uri": "https://localhost:8080/"
        },
        "id": "GkAQMSt1OJKv",
        "outputId": "74f03df2-c2e2-4d2c-c6ab-969951811b18"
      },
      "execution_count": 51,
      "outputs": [
        {
          "output_type": "stream",
          "name": "stdout",
          "text": [
            "Masukkan jumlah baris matriks A : 2\n",
            "Masukkan jumlah kolom matriks A: 2\n",
            "Masukkan elemen-elemen matriks :\n",
            "Elemen a [0][0]: 3\n",
            "Elemen a [0][1]: 0\n",
            "Elemen a [1][0]: 8\n",
            "Elemen a [1][1]: 6\n",
            "Masukkan jumlah baris matriks B: 2\n",
            "Masukkan jumlah kolom matriks B: 2\n",
            "Masukkan elemen-elemen matriks :\n",
            "Elemen b [0][0]: 1\n",
            "Elemen b [0][1]: 4\n",
            "Elemen b [1][0]: 6\n",
            "Elemen b [1][1]: 8\n",
            "Matriks A dan B setelah dijumlahkan adalah: \n",
            "[4, 4]\n",
            "[14, 14]\n"
          ]
        }
      ]
    },
    {
      "cell_type": "code",
      "source": [
        "print(\"masukkan matriks A (2x2): \")\n",
        "A = []\n",
        "for _ in range(2):\n",
        "  A.append(list(map(int, input().split())))\n",
        "print(\"masukkan matriks B (2x2): \")\n",
        "B = []\n",
        "for _ in range(2):\n",
        "  B.append(list(map(int, input().split())))\n",
        "print(\"hasil penjumlahan matriks A dan B adalah: \")\n",
        "for i in range(2):\n",
        "  for j in range(2):\n",
        "    print(A[i][j] + B[i][j], end=\" \")\n",
        "  print()"
      ],
      "metadata": {
        "colab": {
          "base_uri": "https://localhost:8080/"
        },
        "id": "WodDmEfsttJe",
        "outputId": "6d4689b7-993e-4bea-cd10-cbd36134ca6b"
      },
      "execution_count": 55,
      "outputs": [
        {
          "output_type": "stream",
          "name": "stdout",
          "text": [
            "masukkan matriks A (2x2): \n",
            "2 4\n",
            "3 5\n",
            "masukkan matriks B (2x2): \n",
            "6 8\n",
            "5 6\n",
            "hasil penjumlahan matriks A dan B adalah: \n",
            "8 12 \n",
            "8 11 \n"
          ]
        }
      ]
    },
    {
      "cell_type": "markdown",
      "source": [
        "Kalkulasi Gaji\n",
        "\n",
        "Buatlah program dengan subprogram (fungsi) untuk menghitung gaji bersih seorang karyawan.\n",
        "\n",
        "Fungsi:\n",
        "gaji_bersih = gaji_pokok + tunjangan - potongan\n",
        "\n",
        "Keterangan:\n",
        "\n",
        "•\tGaji pokok dimasukkan dari input\n",
        "\n",
        "•\tTunjangan = 10% dari gaji pokok\n",
        "\n",
        "•\tPotongan = 5% dari gaji pokok\n",
        "\n",
        "Tampilkan gaji bersih dengan memanggil fungsi tersebut.\n"
      ],
      "metadata": {
        "id": "34UyuEaLrlwN"
      }
    },
    {
      "cell_type": "code",
      "source": [
        "tunjangan_gaji = float(input(\"masukkan tunjangan : \"))\n",
        "potongan_gaji = float(input(\"masukkan potongan : \"))\n",
        "gaji_pokok = int(input(\"masukkan gaji pokok : \"))\n",
        "gaji_bersih = gaji_pokok+(tunjangan_gaji*gaji_pokok)-(potongan_gaji*gaji_pokok)\n",
        "print(\"gaji bersih : \", gaji_bersih)"
      ],
      "metadata": {
        "colab": {
          "base_uri": "https://localhost:8080/"
        },
        "id": "SWHw3yDbqUNu",
        "outputId": "1c9aa433-59b9-45a4-b839-5553f2288edf"
      },
      "execution_count": 60,
      "outputs": [
        {
          "output_type": "stream",
          "name": "stdout",
          "text": [
            "masukkan tunjangan : 0.1\n",
            "masukkan potongan : 0.05\n",
            "masukkan gaji pokok : 10000000\n",
            "gaji bersih :  10500000.0\n"
          ]
        }
      ]
    }
  ]
}