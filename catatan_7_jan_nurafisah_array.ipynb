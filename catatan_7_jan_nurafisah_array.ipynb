{
  "cells": [
    {
      "cell_type": "markdown",
      "metadata": {
        "id": "view-in-github",
        "colab_type": "text"
      },
      "source": [
        "<a href=\"https://colab.research.google.com/github/panpanii/PANI/blob/main/catatan_7_des_nurafisah_array.ipynb\" target=\"_parent\"><img src=\"https://colab.research.google.com/assets/colab-badge.svg\" alt=\"Open In Colab\"/></a>"
      ]
    },
    {
      "cell_type": "code",
      "source": [
        "Numbint = [7,4,8,2,3,5]\n",
        "D = int(input(\"masukkan sebuah nilai integer: \"))\n",
        "S = [elemen * D for elemen in Numbint]\n",
        "print(\"elemen Numbint yang baru setelah dikalikan dengan D: \")\n",
        "for elemen in S:\n",
        "    print(elemen)"
      ],
      "metadata": {
        "colab": {
          "base_uri": "https://localhost:8080/"
        },
        "id": "XOcwl4dJKS24",
        "outputId": "d9352c39-0da0-4c28-b138-065d5a49dd50"
      },
      "execution_count": 15,
      "outputs": [
        {
          "output_type": "stream",
          "name": "stdout",
          "text": [
            "masukkan sebuah nilai integer: 5\n",
            "elemen Numbint yang baru setelah dikalikan dengan D: \n",
            "35\n",
            "20\n",
            "40\n",
            "10\n",
            "15\n",
            "25\n"
          ]
        }
      ]
    },
    {
      "cell_type": "code",
      "source": [
        "s = [4,1,-1,10,0,2]\n",
        "d = int(input(\"masukkan sebuah nilai d: \"))\n",
        "for i in range (len(s)):\n",
        "    s[i] *= d\n",
        "print(\"seteleh elemen s dikalikan dengan d: \", s)\n"
      ],
      "metadata": {
        "colab": {
          "base_uri": "https://localhost:8080/"
        },
        "id": "IwS7IWcqOaJu",
        "outputId": "8c9ca3df-8057-4c74-e880-7b250899faf5"
      },
      "execution_count": 16,
      "outputs": [
        {
          "output_type": "stream",
          "name": "stdout",
          "text": [
            "masukkan sebuah nilai d: 5\n",
            "seteleh elemen s dikalikan dengan d:  [20, 5, -5, 50, 0, 10]\n"
          ]
        }
      ]
    },
    {
      "cell_type": "code",
      "source": [
        "T = [9,12,30,-1,2,7,-3,30,14]\n",
        "Terbesar = T[0]\n",
        "for elemen in T:\n",
        "    if elemen > Terbesar:\n",
        "        Terbesar = elemen\n",
        "print(\"nilai terbesar adalah: \", Terbesar)"
      ],
      "metadata": {
        "colab": {
          "base_uri": "https://localhost:8080/"
        },
        "id": "sKRyH637S_qO",
        "outputId": "625e6eae-9d0d-462f-b9e1-cfb11263006b"
      },
      "execution_count": 14,
      "outputs": [
        {
          "output_type": "stream",
          "name": "stdout",
          "text": [
            "nilai terbesar adalah:  30\n"
          ]
        }
      ]
    }
  ],
  "metadata": {
    "colab": {
      "provenance": [],
      "include_colab_link": true
    },
    "kernelspec": {
      "display_name": "Python 3",
      "name": "python3"
    },
    "language_info": {
      "name": "python"
    }
  },
  "nbformat": 4,
  "nbformat_minor": 0
}
