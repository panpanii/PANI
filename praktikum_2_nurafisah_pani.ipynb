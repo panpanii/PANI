{
  "nbformat": 4,
  "nbformat_minor": 0,
  "metadata": {
    "colab": {
      "provenance": [],
      "authorship_tag": "ABX9TyM8+M69QJ75wtmOiM1N2zdu",
      "include_colab_link": true
    },
    "kernelspec": {
      "name": "python3",
      "display_name": "Python 3"
    },
    "language_info": {
      "name": "python"
    }
  },
  "cells": [
    {
      "cell_type": "markdown",
      "metadata": {
        "id": "view-in-github",
        "colab_type": "text"
      },
      "source": [
        "<a href=\"https://colab.research.google.com/github/panpanii/PANI/blob/main/praktikum_2_nurafisah_pani.ipynb\" target=\"_parent\"><img src=\"https://colab.research.google.com/assets/colab-badge.svg\" alt=\"Open In Colab\"/></a>"
      ]
    },
    {
      "cell_type": "code",
      "execution_count": 21,
      "metadata": {
        "colab": {
          "base_uri": "https://localhost:8080/"
        },
        "id": "uotN0ITHsWPx",
        "outputId": "e852738f-2b29-4b12-9ead-a4c7b369d723"
      },
      "outputs": [
        {
          "output_type": "stream",
          "name": "stdout",
          "text": [
            "masukkan nama: rifay\n",
            "masukkan jenis kelamin: laki\n",
            "hello, bro rifay\n"
          ]
        }
      ],
      "source": [
        "nama = input(\"masukkan nama: \")\n",
        "jenis_kelamin = input(\"masukkan jenis kelamin: \")\n",
        "if (jenis_kelamin == \"laki-laki\" or \"pria\"):\n",
        "  print(\"hello, bro\", nama)\n",
        "else:\n",
        "  print(\"hello, sis\", nama)"
      ]
    },
    {
      "cell_type": "code",
      "source": [
        "\n",
        "jumlah_barang = int(input(\"masukkan jumlah barang yang dibeli: \"))\n",
        "total_belanja = 0\n",
        "\n",
        "for i in range(jumlah_barang):\n",
        "    nama_barang = input(f\"masukkan nama barang ke-{i+1}: \")\n",
        "    harga = int(input(f\"masukkan harga barang ke-{i+1}: \"))\n",
        "    jumlah = int(input(f\"masukkan jumlah barang ke-{i+1}: \"))\n",
        "    total_harga = harga * jumlah\n",
        "    print(f\"total harga barang {nama_barang} adalah {total_harga}\")\n",
        "    total_belanja += total_harga\n",
        "\n",
        "print(f\"total belanjaan adalah {total_belanja}\")\n"
      ],
      "metadata": {
        "colab": {
          "base_uri": "https://localhost:8080/"
        },
        "id": "0QEy4AP1y8oZ",
        "outputId": "ca7f9f90-6516-40d8-b8f3-dc8ac3213381"
      },
      "execution_count": 20,
      "outputs": [
        {
          "output_type": "stream",
          "name": "stdout",
          "text": [
            "masukkan jumlah barang yang dibeli: 2\n",
            "masukkan nama barang ke-1: tomat\n",
            "masukkan harga barang ke-1: 3000\n",
            "masukkan jumlah barang ke-1: 6\n",
            "total harga barang tomat adalah 18000\n",
            "masukkan nama barang ke-2: coklat\n",
            "masukkan harga barang ke-2: 40000\n",
            "masukkan jumlah barang ke-2: 5\n",
            "total harga barang coklat adalah 200000\n",
            "total belanjaan adalah 218000\n"
          ]
        }
      ]
    }
  ]
}