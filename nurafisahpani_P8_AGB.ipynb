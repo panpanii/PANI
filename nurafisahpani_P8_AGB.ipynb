{
  "nbformat": 4,
  "nbformat_minor": 0,
  "metadata": {
    "colab": {
      "provenance": [],
      "include_colab_link": true
    },
    "kernelspec": {
      "name": "python3",
      "display_name": "Python 3"
    },
    "language_info": {
      "name": "python"
    }
  },
  "cells": [
    {
      "cell_type": "markdown",
      "metadata": {
        "id": "view-in-github",
        "colab_type": "text"
      },
      "source": [
        "<a href=\"https://colab.research.google.com/github/panpanii/PANI/blob/main/nurafisahpani_P8_AGB.ipynb\" target=\"_parent\"><img src=\"https://colab.research.google.com/assets/colab-badge.svg\" alt=\"Open In Colab\"/></a>"
      ]
    },
    {
      "cell_type": "markdown",
      "source": [
        "**FUNDAMENTAL ARRAY**"
      ],
      "metadata": {
        "id": "wfgZxt5q_TzV"
      }
    },
    {
      "cell_type": "code",
      "execution_count": 8,
      "metadata": {
        "id": "9TB1ZwTr_DYz",
        "colab": {
          "base_uri": "https://localhost:8080/"
        },
        "outputId": "5eaf7686-1ce4-4ad6-e89f-5a183cf9a347"
      },
      "outputs": [
        {
          "output_type": "stream",
          "name": "stdout",
          "text": [
            "[10, 20, 30, 40]\n"
          ]
        }
      ],
      "source": [
        "arr = [10, 20, 30, 40]\n",
        "print(arr)"
      ]
    },
    {
      "cell_type": "code",
      "source": [
        "list_numbers = [1, 2, 3, 4, 5]\n",
        "list_numbers"
      ],
      "metadata": {
        "id": "Qye2YU0__OFZ",
        "colab": {
          "base_uri": "https://localhost:8080/"
        },
        "outputId": "15501a8a-e8ff-452e-c5c3-921adb24116c"
      },
      "execution_count": 11,
      "outputs": [
        {
          "output_type": "execute_result",
          "data": {
            "text/plain": [
              "[1, 2, 3, 4, 5]"
            ]
          },
          "metadata": {},
          "execution_count": 11
        }
      ]
    },
    {
      "cell_type": "code",
      "source": [
        "list_numbers[0] = 100  # Mengubah elemen pertama menjadi 100\n",
        "list_numbers[0]"
      ],
      "metadata": {
        "id": "Fl3348wK_Rjh",
        "colab": {
          "base_uri": "https://localhost:8080/"
        },
        "outputId": "6a31b27f-95ad-4556-9d28-6e6e83207348"
      },
      "execution_count": 10,
      "outputs": [
        {
          "output_type": "execute_result",
          "data": {
            "text/plain": [
              "100"
            ]
          },
          "metadata": {},
          "execution_count": 10
        }
      ]
    },
    {
      "cell_type": "markdown",
      "source": [
        "**MENDEKLARASIKAN ARRAY**"
      ],
      "metadata": {
        "id": "vu07k-Tj_cp9"
      }
    },
    {
      "cell_type": "code",
      "source": [
        "arr = [1, 2, 3, 4, 5]"
      ],
      "metadata": {
        "id": "Z7JTYURvCO49"
      },
      "execution_count": 4,
      "outputs": []
    },
    {
      "cell_type": "code",
      "source": [
        "data = [1, 2, 3, 'hello', 5.5]  # array dengan elemen tipe berbeda\n",
        "data [3]"
      ],
      "metadata": {
        "id": "OKBRVSaA_f6u",
        "colab": {
          "base_uri": "https://localhost:8080/",
          "height": 35
        },
        "outputId": "b7203126-ad93-4ad6-f5cf-bcdf224fcb25"
      },
      "execution_count": 14,
      "outputs": [
        {
          "output_type": "execute_result",
          "data": {
            "text/plain": [
              "'hello'"
            ],
            "application/vnd.google.colaboratory.intrinsic+json": {
              "type": "string"
            }
          },
          "metadata": {},
          "execution_count": 14
        }
      ]
    },
    {
      "cell_type": "code",
      "source": [
        "arr = [0] * 5  # Membuat array dengan 5 elemen, semua berisi 0\n",
        "arr"
      ],
      "metadata": {
        "id": "2b5ZTBRJ_isp",
        "colab": {
          "base_uri": "https://localhost:8080/"
        },
        "outputId": "3effbdf6-1db5-4a9e-c9b7-848c17af1996"
      },
      "execution_count": 13,
      "outputs": [
        {
          "output_type": "execute_result",
          "data": {
            "text/plain": [
              "[0, 0, 0, 0, 0]"
            ]
          },
          "metadata": {},
          "execution_count": 13
        }
      ]
    },
    {
      "cell_type": "code",
      "source": [
        "arr = [10, 20, 30, 40]\n",
        "print(arr[0])  # Output: 10 (indeks pertama)\n",
        "print(arr[3])  # Output: 40 (indeks terakhir)"
      ],
      "metadata": {
        "colab": {
          "base_uri": "https://localhost:8080/"
        },
        "id": "GHWtWUHi_knC",
        "outputId": "48b578b5-fea9-4cdd-db63-10ee4afbeaf2"
      },
      "execution_count": 7,
      "outputs": [
        {
          "output_type": "stream",
          "name": "stdout",
          "text": [
            "10\n",
            "40\n"
          ]
        }
      ]
    },
    {
      "cell_type": "markdown",
      "source": [
        "**PEMROSESAN SEKUENSIAL ARRAY**"
      ],
      "metadata": {
        "id": "fQEuwUc3_mrE"
      }
    },
    {
      "cell_type": "code",
      "source": [
        "arr = [10, 20, 30, 40, 50]\n",
        "for elemen in arr:\n",
        "    print(elemen)\n"
      ],
      "metadata": {
        "colab": {
          "base_uri": "https://localhost:8080/"
        },
        "id": "7ZE8ZrrE_qmV",
        "outputId": "b5093213-3273-445d-ff08-3c3005558e96"
      },
      "execution_count": null,
      "outputs": [
        {
          "output_type": "stream",
          "name": "stdout",
          "text": [
            "10\n",
            "20\n",
            "30\n",
            "40\n",
            "50\n"
          ]
        }
      ]
    },
    {
      "cell_type": "code",
      "source": [
        "total = 0\n",
        "for elemen in arr:\n",
        "    total += elemen\n",
        "print(total)  # Output: 150\n"
      ],
      "metadata": {
        "colab": {
          "base_uri": "https://localhost:8080/"
        },
        "id": "sWK3Hdb9_tzN",
        "outputId": "293b7916-7953-489c-93b8-37a8a1172900"
      },
      "execution_count": null,
      "outputs": [
        {
          "output_type": "stream",
          "name": "stdout",
          "text": [
            "150\n"
          ]
        }
      ]
    },
    {
      "cell_type": "markdown",
      "source": [
        "LATIHAN PRAKTKUM 8"
      ],
      "metadata": {
        "id": "Kfk-Cm9pZyui"
      }
    },
    {
      "cell_type": "markdown",
      "source": [
        "nilai maksimum"
      ],
      "metadata": {
        "id": "vQ_tJk9ZbZzK"
      }
    },
    {
      "cell_type": "code",
      "source": [
        "arr = [2,3,20,4,11,7,25,13]\n",
        "terbesar = arr[0]\n",
        "for elemen in arr:\n",
        "    if elemen > terbesar:\n",
        "        terbesar = elemen\n",
        "print(\"nilai maksimum: \", terbesar)"
      ],
      "metadata": {
        "colab": {
          "base_uri": "https://localhost:8080/"
        },
        "id": "mj1mnXF2Zx0r",
        "outputId": "05ddbbcf-4592-4d5e-92b9-4ce56aaac93a"
      },
      "execution_count": 29,
      "outputs": [
        {
          "output_type": "stream",
          "name": "stdout",
          "text": [
            "nilai maksimum:  25\n"
          ]
        }
      ]
    },
    {
      "cell_type": "markdown",
      "source": [
        "nilai minimum"
      ],
      "metadata": {
        "id": "8OzxdAoBbgCy"
      }
    },
    {
      "cell_type": "code",
      "source": [
        "for elemen in arr:\n",
        "  terkecil = elemen\n",
        "  for elemen2 in arr:\n",
        "      if elemen2 < terkecil:\n",
        "          terkecil = elemen2\n",
        "print(\"nilai minimum: \",terkecil)"
      ],
      "metadata": {
        "colab": {
          "base_uri": "https://localhost:8080/"
        },
        "id": "BkoLsY_JamEr",
        "outputId": "6182fb59-8ba8-4b53-deee-37b3d6fe4598"
      },
      "execution_count": 22,
      "outputs": [
        {
          "output_type": "stream",
          "name": "stdout",
          "text": [
            "nilai minimum:  2\n"
          ]
        }
      ]
    },
    {
      "cell_type": "markdown",
      "source": [
        "hasil penjumlahan seluruh elemen"
      ],
      "metadata": {
        "id": "R4h-Ssv3bh5j"
      }
    },
    {
      "cell_type": "code",
      "source": [
        "arr = [2,3,20,4,11,7,25,13]\n",
        "total = 0\n",
        "for elemen in arr:\n",
        "    total += elemen\n",
        "print(\"hasil penjumlahan seluruh elemen: \", total)"
      ],
      "metadata": {
        "colab": {
          "base_uri": "https://localhost:8080/"
        },
        "id": "_NY-rHyvazFy",
        "outputId": "dffc0d05-8676-45a9-b63d-1f29613909d0"
      },
      "execution_count": 39,
      "outputs": [
        {
          "output_type": "stream",
          "name": "stdout",
          "text": [
            "hasil penjumlahan seluruh elemen:  85\n"
          ]
        }
      ]
    },
    {
      "cell_type": "markdown",
      "source": [
        "jumlah seluruh elemen"
      ],
      "metadata": {
        "id": "iQd4NP6CgHPS"
      }
    },
    {
      "cell_type": "code",
      "source": [
        "jumlah_elemen = len(arr)\n",
        "print(\"jumlah elemen: \", jumlah_elemen)"
      ],
      "metadata": {
        "colab": {
          "base_uri": "https://localhost:8080/"
        },
        "id": "qkjEk0XGgVIS",
        "outputId": "4b5c733f-2b1c-4a9c-894c-da961dc9262b"
      },
      "execution_count": 37,
      "outputs": [
        {
          "output_type": "stream",
          "name": "stdout",
          "text": [
            "jumlah elemen:  8\n"
          ]
        }
      ]
    },
    {
      "cell_type": "markdown",
      "source": [
        "rata-rata seluruh elemen"
      ],
      "metadata": {
        "id": "t85KlY9rgOTS"
      }
    },
    {
      "cell_type": "code",
      "source": [
        "rata_rata = total / jumlah_elemen\n",
        "print(\"rata-rata: \", rata_rata)"
      ],
      "metadata": {
        "colab": {
          "base_uri": "https://localhost:8080/"
        },
        "id": "Tl4KMWIygVla",
        "outputId": "cdf912bb-1780-4fda-b8fb-d6eb2575e337"
      },
      "execution_count": 38,
      "outputs": [
        {
          "output_type": "stream",
          "name": "stdout",
          "text": [
            "rata-rata:  10.625\n"
          ]
        }
      ]
    },
    {
      "cell_type": "markdown",
      "source": [
        "catatan tambahan"
      ],
      "metadata": {
        "id": "GbaS_-4Dfhfh"
      }
    },
    {
      "cell_type": "code",
      "source": [
        "arr = [2,3,20,4,11,7,25,13]\n",
        "maksimum = max(arr)\n",
        "print(\"nilai maksimum: \" ,maksimum)\n",
        "\n",
        "minimum = min(arr)\n",
        "print(\"nilai minimum: \" ,minimum)\n",
        "\n",
        "jumlah_elemen = len(arr)\n",
        "print(\"jumlah elemen: \" ,jumlah_elemen)\n",
        "\n",
        "rata_rata = total / jumlah_elemen\n",
        "print(\"rata_rata: \" ,rata_rata)"
      ],
      "metadata": {
        "colab": {
          "base_uri": "https://localhost:8080/"
        },
        "id": "9CRVqJgHfdqh",
        "outputId": "edba4c49-bf34-4048-a46d-c22cecbdd2d9"
      },
      "execution_count": 50,
      "outputs": [
        {
          "output_type": "stream",
          "name": "stdout",
          "text": [
            "nilai maksimum:  25\n",
            "nilai minimum:  2\n",
            "jumlah elemen:  8\n",
            "rata_rata:  10.625\n"
          ]
        }
      ]
    }
  ]
}