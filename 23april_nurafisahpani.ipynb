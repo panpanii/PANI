{
  "nbformat": 4,
  "nbformat_minor": 0,
  "metadata": {
    "colab": {
      "provenance": [],
      "authorship_tag": "ABX9TyOYTx1IIgWazLsCJ+9i2Cqa",
      "include_colab_link": true
    },
    "kernelspec": {
      "name": "python3",
      "display_name": "Python 3"
    },
    "language_info": {
      "name": "python"
    }
  },
  "cells": [
    {
      "cell_type": "markdown",
      "metadata": {
        "id": "view-in-github",
        "colab_type": "text"
      },
      "source": [
        "<a href=\"https://colab.research.google.com/github/panpanii/PANI/blob/main/23april_nurafisahpani.ipynb\" target=\"_parent\"><img src=\"https://colab.research.google.com/assets/colab-badge.svg\" alt=\"Open In Colab\"/></a>"
      ]
    },
    {
      "cell_type": "code",
      "execution_count": 4,
      "metadata": {
        "colab": {
          "base_uri": "https://localhost:8080/"
        },
        "id": "hrSiqnHFqqS0",
        "outputId": "fe2f5e7b-646e-4f23-fcee-0875a3f128bf"
      },
      "outputs": [
        {
          "output_type": "stream",
          "name": "stdout",
          "text": [
            "7\n"
          ]
        }
      ],
      "source": [
        "NumbInt = [9,8,7,6,5,4,3,2,1,0]\n",
        "print (NumbInt[2])"
      ]
    },
    {
      "cell_type": "code",
      "source": [
        "X = [0 for i in range (10)]\n",
        "print (X[3])"
      ],
      "metadata": {
        "colab": {
          "base_uri": "https://localhost:8080/"
        },
        "id": "OnV63Uq9t2AT",
        "outputId": "4738dd96-ca72-4277-97af-0d8073031a14"
      },
      "execution_count": 10,
      "outputs": [
        {
          "output_type": "stream",
          "name": "stdout",
          "text": [
            "0\n"
          ]
        }
      ]
    },
    {
      "cell_type": "code",
      "source": [
        "Y = ['*' for i in range(10)]\n",
        "print (Y[3])"
      ],
      "metadata": {
        "colab": {
          "base_uri": "https://localhost:8080/"
        },
        "id": "Sh4Te65FuxNr",
        "outputId": "a5de3eea-0772-43d3-c74b-15c2150a96a0"
      },
      "execution_count": 32,
      "outputs": [
        {
          "output_type": "stream",
          "name": "stdout",
          "text": [
            "*\n"
          ]
        }
      ]
    },
    {
      "cell_type": "code",
      "source": [
        "Z = [1, 2, 4, -1, 100, 2, 0, -1, 3, 9]\n",
        "print (Z[7])\n",
        "T = Z[1] + Z[4]\n",
        "print(f\"T:\", T)"
      ],
      "metadata": {
        "colab": {
          "base_uri": "https://localhost:8080/"
        },
        "id": "L7lDFBj7vHvs",
        "outputId": "4fd49ef1-ee0f-4aad-e45e-7ae2f8b15cfa"
      },
      "execution_count": 28,
      "outputs": [
        {
          "output_type": "stream",
          "name": "stdout",
          "text": [
            "-1\n",
            "T: 102\n"
          ]
        }
      ]
    },
    {
      "cell_type": "code",
      "source": [
        "# Program IsiArray\n",
        "# Mengisi array dengan nilai dari pengguna\n",
        "# KAMUS\n",
        "# TabInt : array [0..9] of int\n",
        "# i: int\n",
        "# ALGORITMA\n",
        "# Deklarasi array NumbInt dan mengisinya dengan nilai default 0\n",
        "NumbInt = [0 for i in range(10)]\n",
        "# Mengisi array dari pembacaan nilai dari keyboard\n",
        "for i in range(0,10): NumbInt[i] = int(input())"
      ],
      "metadata": {
        "colab": {
          "base_uri": "https://localhost:8080/"
        },
        "id": "qxmMTnIbz37k",
        "outputId": "f876dfac-cc25-483d-ac4d-1a2a4f21b7da"
      },
      "execution_count": 33,
      "outputs": [
        {
          "name": "stdout",
          "output_type": "stream",
          "text": [
            "8\n",
            "4\n",
            "2\n",
            "8\n",
            "5\n",
            "4\n",
            "0\n",
            "56\n",
            "34\n",
            "765\n"
          ]
        }
      ]
    },
    {
      "cell_type": "code",
      "source": [
        "# Program IsiArray\n",
        "# Mengisi array dengan nilai dari pengguna\n",
        "# KAMUS\n",
        "# TabInt : array [0..9] of int\n",
        "# I : int\n",
        "# ALGORITMA\n",
        "# Deklarasi array NumbInt dan mengisinya dengan nilai default 0\n",
        "U = [0 for i in range(10)]\n",
        "for i in range(0,10):\n",
        "  U[i] = int(input())\n",
        "# Mencetak isi array\n",
        "for i in range(0,10):\n",
        "  print(U[i], end= \" \")\n",
        "print( )"
      ],
      "metadata": {
        "colab": {
          "base_uri": "https://localhost:8080/"
        },
        "id": "KVDnwPtH0A1r",
        "outputId": "13341a81-8a9a-4a70-a831-ebbe370991de"
      },
      "execution_count": 46,
      "outputs": [
        {
          "output_type": "stream",
          "name": "stdout",
          "text": [
            "543\n",
            "23\n",
            "56\n",
            "75\n",
            "23\n",
            "45\n",
            "67\n",
            "45\n",
            "78\n",
            "86\n",
            "543 23 56 75 23 45 67 45 78 86 \n"
          ]
        }
      ]
    },
    {
      "cell_type": "code",
      "source": [
        "# Program AverageArray\n",
        "# Menghitung nilai rata-rata elemen array\n",
        "# KAMUS\n",
        "# TabInt : array [0..9] of int\n",
        "# i : int\n",
        "# sum : int\n",
        "# ALGORITMA\n",
        "# Deklarasi array TabInt dan mengisinya dengan nilai default 0\n",
        "NumbInt = [0 for i in range(10)]\n",
        "# Mengisi array dari pembacaan nilai dari keyboard\n",
        "for i in range(0,10):\n",
        "  NumbInt[i] = int(input())\n",
        "# Menjumlahkan elemen array\n",
        "sum = 0\n",
        "for i in range(0,10):\n",
        "  sum = sum + NumbInt[i]\n",
        "# Menghitung nilai rata-rata dan menampilkannya\n",
        "rata = sum/10\n",
        "print (\"Nilai rata-rata = \" + str(rata))"
      ],
      "metadata": {
        "colab": {
          "base_uri": "https://localhost:8080/"
        },
        "id": "nXh8Y6g31omt",
        "outputId": "dafcc1a7-6de3-4d0a-cb52-5233b3ea71f9"
      },
      "execution_count": 42,
      "outputs": [
        {
          "output_type": "stream",
          "name": "stdout",
          "text": [
            "1\n",
            "3\n",
            "4\n",
            "6\n",
            "8\n",
            "3\n",
            "9\n",
            "3\n",
            "5\n",
            "7\n",
            "Nilai rata-rata = 4.9\n"
          ]
        }
      ]
    },
    {
      "cell_type": "code",
      "source": [
        "# Program: Perkalian Array dan Mencari Nilai Ekstrem\n",
        "# 1. Inisialisasi array S\n",
        "S = [4, 1, -1, 10, 0, 12]\n",
        "# 2. Input nilai D dari pengguna\n",
        "D = int(input(\"Masukkan nilai D (pengali): \"))\n",
        "# 3. Kalikan setiap elemen S dengan D\n",
        "S = [elemen * D for elemen in S]\n",
        "# 4. Tampilkan hasil array setelah dikalikan\n",
        "print(\"Array S setelah dikalikan dengan D:\")\n",
        "print(S)\n",
        "# 5. Cari nilai maksimum dan minimum\n",
        "maks = max(S)\n",
        "minim = min(S)\n",
        "# 6. Tampilkan nilai maksimum dan minimum\n",
        "print(\"Nilai terbesar dalam array:\", maks)\n",
        "print(\"Nilai terkecil dalam array:\", minim)"
      ],
      "metadata": {
        "colab": {
          "base_uri": "https://localhost:8080/"
        },
        "id": "8ZY815h811Bc",
        "outputId": "86a93a91-d617-4153-a574-cb18eec9373c"
      },
      "execution_count": 43,
      "outputs": [
        {
          "output_type": "stream",
          "name": "stdout",
          "text": [
            "Masukkan nilai D (pengali): 2\n",
            "Array S setelah dikalikan dengan D:\n",
            "[8, 2, -2, 20, 0, 24]\n",
            "Nilai terbesar dalam array: 24\n",
            "Nilai terkecil dalam array: -2\n"
          ]
        }
      ]
    },
    {
      "cell_type": "code",
      "source": [
        "MAT = [[1,2,3,4,5,7,8,8],\n",
        "       [2,3,6,8,9,5,5,4],\n",
        "       [3,4,8,9,9,6,7,0]]\n",
        "for j in range(len(MAT[0])):\n",
        "  for i in range(len(MAT)):\n",
        "    print(MAT[i][j], end= \" \")\n",
        "  print()"
      ],
      "metadata": {
        "colab": {
          "base_uri": "https://localhost:8080/"
        },
        "id": "yRZYXyWA3RmF",
        "outputId": "302ba2db-481e-4b3d-8a52-1a7b7e67e82e"
      },
      "execution_count": 49,
      "outputs": [
        {
          "output_type": "stream",
          "name": "stdout",
          "text": [
            "1 2 3 \n",
            "2 3 4 \n",
            "3 6 8 \n",
            "4 8 9 \n",
            "5 9 9 \n",
            "7 5 6 \n",
            "8 5 7 \n",
            "8 4 0 \n"
          ]
        }
      ]
    },
    {
      "cell_type": "code",
      "source": [
        "MAT = [[1,2,3,4,5,7,8,8],\n",
        "       [2,3,6,8,9,5,5,4],\n",
        "       [3,4,8,9,9,6,7,0]]\n",
        "print(MAT)"
      ],
      "metadata": {
        "colab": {
          "base_uri": "https://localhost:8080/"
        },
        "id": "I3UcdOEB7-A-",
        "outputId": "5c6b5ddd-539a-436c-9c70-2b513ce91864"
      },
      "execution_count": 50,
      "outputs": [
        {
          "output_type": "stream",
          "name": "stdout",
          "text": [
            "[[1, 2, 3, 4, 5, 7, 8, 8], [2, 3, 6, 8, 9, 5, 5, 4], [3, 4, 8, 9, 9, 6, 7, 0]]\n"
          ]
        }
      ]
    },
    {
      "cell_type": "code",
      "source": [
        "MAT = [[1,2,3,4,5,7,8,8],\n",
        "       [2,3,6,8,9,5,5,4],\n",
        "       [3,4,8,9,9,6,7,0]]\n",
        "MatValue = [[0 for j in range (4)] for i in range (3)]\n",
        "print(MatValue)"
      ],
      "metadata": {
        "colab": {
          "base_uri": "https://localhost:8080/"
        },
        "id": "Q15WcvHR8gHm",
        "outputId": "741ae297-d42e-48a3-a4d4-e2753b04c178"
      },
      "execution_count": 56,
      "outputs": [
        {
          "output_type": "stream",
          "name": "stdout",
          "text": [
            "[[0, 0, 0, 0], [0, 0, 0, 0], [0, 0, 0, 0]]\n"
          ]
        }
      ]
    },
    {
      "cell_type": "code",
      "source": [
        "# Program IsiMatriks;\n",
        "# Isi matriks dan menulis ke layar\n",
        "# KAMUS\n",
        "# M : matriks of integer\n",
        "# NBrs, NKol : int (ukuran brs & kol)\n",
        "# i, j : int (indeks)\n",
        "# ALGORITMA\n",
        "# deklarasi matriks\n",
        "NBrs = 5; NKol = 5;\n",
        "M = [[0 for j in range(NKol)] for i in range(NBrs)]\n",
        "# Mengisi matriks ukuran NBrsxNKol\n",
        "for i in range (NBrs):\n",
        "  for j in range (NKol):\n",
        "    M[i][j] = i * j\n",
        "# Menuliskan isi matriks ke layar\n",
        "for i in range (NBrs):\n",
        "  for j in range (NKol):\n",
        "    print(str(M[i][j])+\" \", end='')\n",
        "print()\n",
        "# print hanya enter"
      ],
      "metadata": {
        "colab": {
          "base_uri": "https://localhost:8080/"
        },
        "id": "LVa_CSxw9fFA",
        "outputId": "cd2c754f-ab05-40d3-d539-b9bc6683fef8"
      },
      "execution_count": 60,
      "outputs": [
        {
          "output_type": "stream",
          "name": "stdout",
          "text": [
            "0 0 0 0 0 0 1 2 3 4 0 2 4 6 8 0 3 6 9 12 0 4 8 12 16 \n"
          ]
        }
      ]
    },
    {
      "cell_type": "code",
      "source": [
        "# Program BacaMatriks;\n",
        "# Baca isi matriks dari pengguna dan menulis ke layar\n",
        "# KAMUS\n",
        "# M : matriks of integer\n",
        "# NBrs, NKol : int (ukuran brs & kol)\n",
        "# i, j : int (indeks)\n",
        "# ALGORITMA\n",
        "# deklarasi matriks\n",
        "NBrs = 5; NKol = 5;\n",
        "M = [[0 for j in range(NKol)] for i in range(NBrs)]\n",
        "# Mengisi matriks ukuran NBrsxNKol\n",
        "for i in range (NBrs):\n",
        "  for j in range (NKol):\n",
        "    M[i][j] = int(input(\"Elemen ke-[\"+str(i)+\",\"+str(j)+\"] = \"))\n",
        "# Menuliskan isi matriks ke layar\n",
        "for i in range (NBrs):\n",
        "  for j in range (NKol):\n",
        "    4print(str(M[i][j])+\" \", end='') # print tanpa enter\n",
        "print()\n",
        "# print hanya enter"
      ],
      "metadata": {
        "colab": {
          "base_uri": "https://localhost:8080/"
        },
        "id": "SBktExjm9ypf",
        "outputId": "c3d8680c-2a63-4598-d1ee-5e38ec47118a"
      },
      "execution_count": 61,
      "outputs": [
        {
          "output_type": "stream",
          "name": "stdout",
          "text": [
            "Elemen ke-[0,0] = 2\n",
            "Elemen ke-[0,1] = 4\n",
            "Elemen ke-[0,2] = 6\n",
            "Elemen ke-[0,3] = 8\n",
            "Elemen ke-[0,4] = 3\n",
            "Elemen ke-[1,0] = 5\n",
            "Elemen ke-[1,1] = 8\n",
            "Elemen ke-[1,2] = 0\n",
            "Elemen ke-[1,3] = 9\n",
            "Elemen ke-[1,4] = 1\n",
            "Elemen ke-[2,0] = 3\n",
            "Elemen ke-[2,1] = 2\n",
            "Elemen ke-[2,2] = 6\n",
            "Elemen ke-[2,3] = 7\n",
            "Elemen ke-[2,4] = 8\n",
            "Elemen ke-[3,0] = 9\n",
            "Elemen ke-[3,1] = 4\n",
            "Elemen ke-[3,2] = 3\n",
            "Elemen ke-[3,3] = 54\n",
            "Elemen ke-[3,4] = 7\n",
            "Elemen ke-[4,0] = 4\n",
            "Elemen ke-[4,1] = 3\n",
            "Elemen ke-[4,2] = 5\n",
            "Elemen ke-[4,3] = 7\n",
            "Elemen ke-[4,4] = 8\n",
            "2 4 6 8 3 5 8 0 9 1 3 2 6 7 8 9 4 3 54 7 4 3 5 7 8 \n"
          ]
        }
      ]
    },
    {
      "cell_type": "code",
      "source": [
        "# Program untuk membaca matriks dan mengalikan setiap elemennya dengan X\n",
        "# Membaca ukuran matriks\n",
        "baris = int(input(\"Masukkan jumlah baris: \"))\n",
        "kolom = int(input(\"Masukkan jumlah kolom: \"))\n",
        "# Membaca elemen-elemen matriks\n",
        "print(\"Masukkan elemen-elemen matriks:\")\n",
        "matriks = []\n",
        "for i in range(baris):\n",
        "  baris_matriks = []\n",
        "  for j in range(kolom):\n",
        "    elemen = int(input(f\"Elemen [{i}][{j}]: \"))\n",
        "    baris_matriks.append(elemen)\n",
        "  matriks.append(baris_matriks)\n",
        "# Membaca nilai X\n",
        "X = int(input(\"Masukkan nilai X untuk mengalikan semua elemen matriks: \"))\n",
        "# Mengalikan setiap elemen matriks dengan X\n",
        "hasil = []\n",
        "for i in range(baris):\n",
        "  hasil_baris = []\n",
        "  for j in range(kolom):\n",
        "    hasil_baris.append(matriks[i][j] * X)\n",
        "  hasil.append(hasil_baris)\n",
        "# Menampilkan hasil matriks\n",
        "print(\"\\nMatriks setelah dikalikan dengan\", X, \":\")\n",
        "for baris in hasil:\n",
        "  print(baris)"
      ],
      "metadata": {
        "colab": {
          "base_uri": "https://localhost:8080/"
        },
        "id": "iOYhDTl1-JG9",
        "outputId": "7c14b9c1-0dcf-44a2-cd3a-469527370e25"
      },
      "execution_count": 64,
      "outputs": [
        {
          "output_type": "stream",
          "name": "stdout",
          "text": [
            "Masukkan jumlah baris: 3\n",
            "Masukkan jumlah kolom: 3\n",
            "Masukkan elemen-elemen matriks:\n",
            "Elemen [0][0]: 1\n",
            "Elemen [0][1]: 2\n",
            "Elemen [0][2]: 3\n",
            "Elemen [1][0]: 4\n",
            "Elemen [1][1]: 5\n",
            "Elemen [1][2]: 6\n",
            "Elemen [2][0]: 7\n",
            "Elemen [2][1]: 8\n",
            "Elemen [2][2]: 9\n",
            "Masukkan nilai X untuk mengalikan semua elemen matriks: 5\n",
            "\n",
            "Matriks setelah dikalikan dengan 5 :\n",
            "[5, 10, 15]\n",
            "[20, 25, 30]\n",
            "[35, 40, 45]\n"
          ]
        }
      ]
    }
  ]
}